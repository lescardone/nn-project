{
  "nbformat": 4,
  "nbformat_minor": 0,
  "metadata": {
    "colab": {
      "name": "CNN_transfer_2.ipynb",
      "provenance": [],
      "collapsed_sections": [],
      "authorship_tag": "ABX9TyOJ9vcn1qCTt1RzFnXhRJPt",
      "include_colab_link": true
    },
    "kernelspec": {
      "name": "python3",
      "display_name": "Python 3"
    },
    "language_info": {
      "name": "python"
    }
  },
  "cells": [
    {
      "cell_type": "markdown",
      "metadata": {
        "id": "view-in-github",
        "colab_type": "text"
      },
      "source": [
        "<a href=\"https://colab.research.google.com/github/lescardone/deep-learning-project/blob/main/CNN_transfer_2.ipynb\" target=\"_parent\"><img src=\"https://colab.research.google.com/assets/colab-badge.svg\" alt=\"Open In Colab\"/></a>"
      ]
    },
    {
      "cell_type": "code",
      "metadata": {
        "colab": {
          "base_uri": "https://localhost:8080/"
        },
        "id": "gE3lQms2cBhE",
        "outputId": "7ccd8176-e967-4c56-d86e-9ef09bf811c4"
      },
      "source": [
        "import os, shutil\n",
        "from google.colab import drive\n",
        "drive.mount('/content/grive')"
      ],
      "execution_count": 1,
      "outputs": [
        {
          "output_type": "stream",
          "text": [
            "Mounted at /content/grive\n"
          ],
          "name": "stdout"
        }
      ]
    },
    {
      "cell_type": "code",
      "metadata": {
        "id": "fVETGKwDcoGX"
      },
      "source": [
        "# Directories for our training,\n",
        "# validation and test splits\n",
        "base_dir = '/content/grive/My Drive/Metis/Deep-Learning/deep-learning-project/photos/small'\n",
        "\n",
        "train_dir = os.path.join(base_dir, 'train')\n",
        "\n",
        "validation_dir = os.path.join(base_dir, 'validation')\n",
        "\n",
        "test_dir = os.path.join(base_dir, 'test')\n",
        "\n",
        "small_test = os.path.join(base_dir, 'small_test')"
      ],
      "execution_count": 55,
      "outputs": []
    },
    {
      "cell_type": "code",
      "metadata": {
        "id": "Sraicqn_w_Ko"
      },
      "source": [
        "# Directory with our training smiling pictures\n",
        "train_happy_dir = os.path.join(train_dir, 'happy')\n",
        "# os.mkdir(train_happy_dir)\n",
        "\n",
        "# Directory with our training sad pictures\n",
        "train_sad_dir = os.path.join(train_dir, 'sad')\n",
        "# os.mkdir(train_sad_dir)\n",
        "\n",
        "# Directory with our validation smiling pictures\n",
        "validation_happy_dir = os.path.join(validation_dir, 'happy')\n",
        "# os.mkdir(validation_happy_dir)\n",
        "\n",
        "# Directory with our validation sad pictures\n",
        "validation_sad_dir = os.path.join(validation_dir, 'sad')\n",
        "# os.mkdir(validation_sad_dir)\n",
        "\n",
        "# Directory with our validation smiling pictures\n",
        "test_happy_dir = os.path.join(test_dir, 'happy')\n",
        "# os.mkdir(test_happy_dir)\n",
        "\n",
        "# Directory with our validation sad pictures\n",
        "test_sad_dir = os.path.join(test_dir, 'sad')\n",
        "# os.mkdir(test_sad_dir)"
      ],
      "execution_count": 5,
      "outputs": []
    },
    {
      "cell_type": "code",
      "metadata": {
        "colab": {
          "base_uri": "https://localhost:8080/"
        },
        "id": "I7_QNPmLtdMZ",
        "outputId": "5f09a392-a443-4727-9c7d-3cae8d0afacc"
      },
      "source": [
        "### from image augmentation\n",
        "from keras.preprocessing.image import ImageDataGenerator\n",
        "datagen = ImageDataGenerator(\n",
        "      rotation_range=40,\n",
        "      width_shift_range=0.2,\n",
        "      height_shift_range=0.2,\n",
        "      shear_range=0.2,\n",
        "      zoom_range=0.2,\n",
        "      horizontal_flip=True,\n",
        "      fill_mode='nearest')\n",
        "\n",
        "# This is module with image preprocessing utilities\n",
        "from keras.preprocessing import image\n",
        "\n",
        "fnames = [os.path.join(train_happy_dir, fname) for fname in os.listdir(train_happy_dir)]\n",
        "\n",
        "# We pick one image to \"augment\"\n",
        "img_path = fnames[2]\n",
        "\n",
        "# Read the image and resize it\n",
        "img = image.load_img(img_path, target_size=(224, 224))\n",
        "\n",
        "# Convert it to a Numpy array with shape (224, 224, 3)\n",
        "x = image.img_to_array(img)\n",
        "\n",
        "# Reshape it to (1, 224, 224, 3)\n",
        "x = x.reshape((1,) + x.shape)\n",
        "\n",
        "train_datagen = ImageDataGenerator(\n",
        "    rescale=1./255,\n",
        "    rotation_range=40,\n",
        "    width_shift_range=0.2,\n",
        "    height_shift_range=0.2,\n",
        "    shear_range=0.2,\n",
        "    zoom_range=0.2,\n",
        "    horizontal_flip=True,)\n",
        "\n",
        "# Note that the validation data should not be augmented!\n",
        "test_datagen = ImageDataGenerator(rescale=1./255)\n",
        "\n",
        "train_generator = train_datagen.flow_from_directory(\n",
        "        # This is the target directory\n",
        "        train_dir,\n",
        "        # All images will be resized to 224,224\n",
        "        target_size=(224, 224),\n",
        "        batch_size=32,\n",
        "        # Since we use binary_crossentropy loss, we need binary labels\n",
        "        class_mode='binary')\n",
        "\n",
        "validation_generator = test_datagen.flow_from_directory(\n",
        "        validation_dir,\n",
        "        target_size=(224, 224),\n",
        "        batch_size=32,\n",
        "        class_mode='binary')"
      ],
      "execution_count": 11,
      "outputs": [
        {
          "output_type": "stream",
          "text": [
            "Found 1000 images belonging to 2 classes.\n",
            "Found 600 images belonging to 2 classes.\n"
          ],
          "name": "stdout"
        }
      ]
    },
    {
      "cell_type": "code",
      "metadata": {
        "colab": {
          "base_uri": "https://localhost:8080/"
        },
        "id": "gC0UTpQ7KAGy",
        "outputId": "0ec4aafc-b67a-4540-87d2-d0d1b7af7ea7"
      },
      "source": [
        "test_generator = test_datagen.flow_from_directory(\n",
        "        test_dir,\n",
        "        target_size=(224, 224),\n",
        "        batch_size=32,\n",
        "        class_mode='binary',\n",
        "        shuffle=False)"
      ],
      "execution_count": 85,
      "outputs": [
        {
          "output_type": "stream",
          "text": [
            "Found 652 images belonging to 2 classes.\n"
          ],
          "name": "stdout"
        }
      ]
    },
    {
      "cell_type": "code",
      "metadata": {
        "id": "off4quniQst7",
        "colab": {
          "base_uri": "https://localhost:8080/"
        },
        "outputId": "86f1c4b4-c199-4b01-f6fb-67bb7e8ab6ac"
      },
      "source": [
        "from tensorflow.keras.applications import MobileNet\n",
        "conv_mobile = MobileNet(weights='imagenet',\n",
        "                        include_top=False,\n",
        "                        input_shape=(224,224,3))"
      ],
      "execution_count": 7,
      "outputs": [
        {
          "output_type": "stream",
          "text": [
            "Downloading data from https://storage.googleapis.com/tensorflow/keras-applications/mobilenet/mobilenet_1_0_224_tf_no_top.h5\n",
            "17227776/17225924 [==============================] - 1s 0us/step\n"
          ],
          "name": "stdout"
        }
      ]
    },
    {
      "cell_type": "code",
      "metadata": {
        "id": "xY4LY2jGTJx6"
      },
      "source": [
        "from keras.layers import MaxPooling2D, Conv2D, Flatten, Dense, Dropout\n",
        "from keras.models import Sequential\n",
        "from keras.optimizers import RMSprop, Adam"
      ],
      "execution_count": 8,
      "outputs": []
    },
    {
      "cell_type": "code",
      "metadata": {
        "id": "gH5iuvVmaelc",
        "colab": {
          "base_uri": "https://localhost:8080/"
        },
        "outputId": "19e0a5b3-5abf-4059-c084-735fa454fc25"
      },
      "source": [
        "model = Sequential()\n",
        "model.add(conv_mobile)\n",
        "model.add(Flatten())\n",
        "model.add(Dense(256, activation='relu'))\n",
        "model.add(Dropout(0.5))\n",
        "model.add(Dense(1, activation='sigmoid'))\n",
        "conv_mobile.trainable = False\n",
        "\n",
        "model.compile(optimizer=RMSprop(learning_rate=2e-5),\n",
        "              loss='binary_crossentropy',\n",
        "              metrics=['acc'])\n",
        "\n",
        "history = model.fit(train_generator,\n",
        "                    epochs=50,\n",
        "                    batch_size=20,\n",
        "                    validation_data=(validation_generator))"
      ],
      "execution_count": 12,
      "outputs": [
        {
          "output_type": "stream",
          "text": [
            "Epoch 1/50\n",
            "32/32 [==============================] - 522s 16s/step - loss: 1.1778 - acc: 0.5699 - val_loss: 0.6358 - val_acc: 0.6900\n",
            "Epoch 2/50\n",
            "32/32 [==============================] - 75s 2s/step - loss: 0.8660 - acc: 0.6249 - val_loss: 0.6142 - val_acc: 0.7017\n",
            "Epoch 3/50\n",
            "32/32 [==============================] - 75s 2s/step - loss: 0.6582 - acc: 0.6966 - val_loss: 0.5715 - val_acc: 0.7350\n",
            "Epoch 4/50\n",
            "32/32 [==============================] - 74s 2s/step - loss: 0.5984 - acc: 0.7045 - val_loss: 0.5456 - val_acc: 0.7517\n",
            "Epoch 5/50\n",
            "32/32 [==============================] - 92s 3s/step - loss: 0.6241 - acc: 0.7068 - val_loss: 0.5583 - val_acc: 0.7467\n",
            "Epoch 6/50\n",
            "32/32 [==============================] - 76s 2s/step - loss: 0.5576 - acc: 0.7265 - val_loss: 0.5716 - val_acc: 0.7450\n",
            "Epoch 7/50\n",
            "32/32 [==============================] - 92s 3s/step - loss: 0.5089 - acc: 0.7765 - val_loss: 0.5953 - val_acc: 0.7283\n",
            "Epoch 8/50\n",
            "32/32 [==============================] - 74s 2s/step - loss: 0.5036 - acc: 0.7759 - val_loss: 0.5928 - val_acc: 0.7350\n",
            "Epoch 9/50\n",
            "32/32 [==============================] - 74s 2s/step - loss: 0.4924 - acc: 0.7727 - val_loss: 0.5958 - val_acc: 0.7233\n",
            "Epoch 10/50\n",
            "32/32 [==============================] - 74s 2s/step - loss: 0.5095 - acc: 0.7839 - val_loss: 0.6435 - val_acc: 0.7267\n",
            "Epoch 11/50\n",
            "32/32 [==============================] - 74s 2s/step - loss: 0.4484 - acc: 0.8073 - val_loss: 0.5598 - val_acc: 0.7417\n",
            "Epoch 12/50\n",
            "32/32 [==============================] - 74s 2s/step - loss: 0.4703 - acc: 0.7627 - val_loss: 0.6043 - val_acc: 0.7467\n",
            "Epoch 13/50\n",
            "32/32 [==============================] - 74s 2s/step - loss: 0.4643 - acc: 0.7896 - val_loss: 0.5594 - val_acc: 0.7483\n",
            "Epoch 14/50\n",
            "32/32 [==============================] - 92s 3s/step - loss: 0.4315 - acc: 0.8161 - val_loss: 0.5602 - val_acc: 0.7683\n",
            "Epoch 15/50\n",
            "32/32 [==============================] - 73s 2s/step - loss: 0.4334 - acc: 0.8133 - val_loss: 0.5901 - val_acc: 0.7450\n",
            "Epoch 16/50\n",
            "32/32 [==============================] - 74s 2s/step - loss: 0.4351 - acc: 0.8138 - val_loss: 0.5443 - val_acc: 0.7633\n",
            "Epoch 17/50\n",
            "32/32 [==============================] - 73s 2s/step - loss: 0.4102 - acc: 0.8163 - val_loss: 0.5796 - val_acc: 0.7517\n",
            "Epoch 18/50\n",
            "32/32 [==============================] - 74s 2s/step - loss: 0.4225 - acc: 0.8037 - val_loss: 0.5689 - val_acc: 0.7467\n",
            "Epoch 19/50\n",
            "32/32 [==============================] - 74s 2s/step - loss: 0.3882 - acc: 0.8403 - val_loss: 0.5864 - val_acc: 0.7333\n",
            "Epoch 20/50\n",
            "32/32 [==============================] - 74s 2s/step - loss: 0.3876 - acc: 0.8076 - val_loss: 0.5563 - val_acc: 0.7617\n",
            "Epoch 21/50\n",
            "32/32 [==============================] - 74s 2s/step - loss: 0.3458 - acc: 0.8587 - val_loss: 0.5976 - val_acc: 0.7567\n",
            "Epoch 22/50\n",
            "32/32 [==============================] - 74s 2s/step - loss: 0.3048 - acc: 0.8731 - val_loss: 0.6426 - val_acc: 0.7467\n",
            "Epoch 23/50\n",
            "32/32 [==============================] - 74s 2s/step - loss: 0.3430 - acc: 0.8529 - val_loss: 0.6450 - val_acc: 0.7483\n",
            "Epoch 24/50\n",
            "32/32 [==============================] - 75s 2s/step - loss: 0.3091 - acc: 0.8565 - val_loss: 0.6247 - val_acc: 0.7450\n",
            "Epoch 25/50\n",
            "32/32 [==============================] - 74s 2s/step - loss: 0.3561 - acc: 0.8568 - val_loss: 0.6250 - val_acc: 0.7550\n",
            "Epoch 26/50\n",
            "32/32 [==============================] - 74s 2s/step - loss: 0.2937 - acc: 0.8859 - val_loss: 0.6451 - val_acc: 0.7550\n",
            "Epoch 27/50\n",
            "32/32 [==============================] - 75s 2s/step - loss: 0.3131 - acc: 0.8668 - val_loss: 0.6403 - val_acc: 0.7467\n",
            "Epoch 28/50\n",
            "32/32 [==============================] - 74s 2s/step - loss: 0.3244 - acc: 0.8560 - val_loss: 0.6364 - val_acc: 0.7533\n",
            "Epoch 29/50\n",
            "32/32 [==============================] - 74s 2s/step - loss: 0.2877 - acc: 0.8789 - val_loss: 0.7122 - val_acc: 0.7433\n",
            "Epoch 30/50\n",
            "32/32 [==============================] - 75s 2s/step - loss: 0.3137 - acc: 0.8671 - val_loss: 0.7414 - val_acc: 0.7417\n",
            "Epoch 31/50\n",
            "32/32 [==============================] - 74s 2s/step - loss: 0.2792 - acc: 0.8927 - val_loss: 0.6695 - val_acc: 0.7650\n",
            "Epoch 32/50\n",
            "32/32 [==============================] - 73s 2s/step - loss: 0.2871 - acc: 0.8748 - val_loss: 0.6369 - val_acc: 0.7700\n",
            "Epoch 33/50\n",
            "32/32 [==============================] - 74s 2s/step - loss: 0.3249 - acc: 0.8635 - val_loss: 0.6387 - val_acc: 0.7617\n",
            "Epoch 34/50\n",
            "32/32 [==============================] - 92s 3s/step - loss: 0.3176 - acc: 0.8630 - val_loss: 0.6815 - val_acc: 0.7600\n",
            "Epoch 35/50\n",
            "32/32 [==============================] - 74s 2s/step - loss: 0.2712 - acc: 0.8807 - val_loss: 0.7224 - val_acc: 0.7533\n",
            "Epoch 36/50\n",
            "32/32 [==============================] - 75s 2s/step - loss: 0.3231 - acc: 0.8788 - val_loss: 0.6515 - val_acc: 0.7683\n",
            "Epoch 37/50\n",
            "32/32 [==============================] - 74s 2s/step - loss: 0.3152 - acc: 0.8719 - val_loss: 0.6458 - val_acc: 0.7750\n",
            "Epoch 38/50\n",
            "32/32 [==============================] - 73s 2s/step - loss: 0.2813 - acc: 0.9014 - val_loss: 0.6488 - val_acc: 0.7567\n",
            "Epoch 39/50\n",
            "32/32 [==============================] - 73s 2s/step - loss: 0.2482 - acc: 0.9080 - val_loss: 0.7085 - val_acc: 0.7517\n",
            "Epoch 40/50\n",
            "32/32 [==============================] - 73s 2s/step - loss: 0.2664 - acc: 0.8813 - val_loss: 0.6844 - val_acc: 0.7567\n",
            "Epoch 41/50\n",
            "32/32 [==============================] - 75s 2s/step - loss: 0.2586 - acc: 0.8905 - val_loss: 0.6792 - val_acc: 0.7533\n",
            "Epoch 42/50\n",
            "32/32 [==============================] - 93s 3s/step - loss: 0.2233 - acc: 0.9062 - val_loss: 0.7044 - val_acc: 0.7700\n",
            "Epoch 43/50\n",
            "32/32 [==============================] - 72s 2s/step - loss: 0.2751 - acc: 0.8864 - val_loss: 0.6907 - val_acc: 0.7617\n",
            "Epoch 44/50\n",
            "32/32 [==============================] - 73s 2s/step - loss: 0.2432 - acc: 0.9048 - val_loss: 0.7477 - val_acc: 0.7467\n",
            "Epoch 45/50\n",
            "32/32 [==============================] - 74s 2s/step - loss: 0.2334 - acc: 0.9050 - val_loss: 0.6592 - val_acc: 0.7767\n",
            "Epoch 46/50\n",
            "32/32 [==============================] - 75s 2s/step - loss: 0.2327 - acc: 0.8982 - val_loss: 0.6530 - val_acc: 0.7633\n",
            "Epoch 47/50\n",
            "32/32 [==============================] - 75s 2s/step - loss: 0.2289 - acc: 0.8954 - val_loss: 0.6912 - val_acc: 0.7700\n",
            "Epoch 48/50\n",
            "32/32 [==============================] - 75s 2s/step - loss: 0.2322 - acc: 0.9118 - val_loss: 0.7064 - val_acc: 0.7667\n",
            "Epoch 49/50\n",
            "32/32 [==============================] - 74s 2s/step - loss: 0.2600 - acc: 0.8857 - val_loss: 0.7098 - val_acc: 0.7650\n",
            "Epoch 50/50\n",
            "32/32 [==============================] - 74s 2s/step - loss: 0.2175 - acc: 0.9123 - val_loss: 0.7392 - val_acc: 0.7600\n"
          ],
          "name": "stdout"
        }
      ]
    },
    {
      "cell_type": "code",
      "metadata": {
        "id": "Zs1hit75NMlb"
      },
      "source": [
        "from keras.callbacks import EarlyStopping"
      ],
      "execution_count": 15,
      "outputs": []
    },
    {
      "cell_type": "code",
      "metadata": {
        "id": "7P8p9niZNI61"
      },
      "source": [
        "callback = EarlyStopping(monitor='loss', patience=3)"
      ],
      "execution_count": 16,
      "outputs": []
    },
    {
      "cell_type": "code",
      "metadata": {
        "colab": {
          "base_uri": "https://localhost:8080/"
        },
        "id": "V6dGYV0_YWyC",
        "outputId": "ef83a2a9-3f99-4d75-8d06-84b9644f0f2f"
      },
      "source": [
        "model2 = Sequential()\n",
        "model2.add(conv_mobile)\n",
        "model2.add(Flatten())\n",
        "model2.add(Dense(256, activation='relu'))\n",
        "model2.add(Dropout(0.5))\n",
        "model2.add(Dense(1, activation='sigmoid'))\n",
        "conv_mobile.trainable = False\n",
        "\n",
        "model2.compile(optimizer=Adam(learning_rate=2e-5),\n",
        "              loss='binary_crossentropy',\n",
        "              metrics=['acc'])\n",
        "\n",
        "history = model2.fit(train_generator,\n",
        "                    epochs=100,\n",
        "                    batch_size=20,\n",
        "                    callbacks=[callback],\n",
        "                    validation_data=(validation_generator))"
      ],
      "execution_count": 19,
      "outputs": [
        {
          "output_type": "stream",
          "text": [
            "Epoch 1/100\n",
            "32/32 [==============================] - 77s 2s/step - loss: 1.1844 - acc: 0.5270 - val_loss: 0.6932 - val_acc: 0.6533\n",
            "Epoch 2/100\n",
            "32/32 [==============================] - 74s 2s/step - loss: 0.7770 - acc: 0.6267 - val_loss: 0.6034 - val_acc: 0.7050\n",
            "Epoch 3/100\n",
            "32/32 [==============================] - 91s 3s/step - loss: 0.6053 - acc: 0.6830 - val_loss: 0.6758 - val_acc: 0.6633\n",
            "Epoch 4/100\n",
            "32/32 [==============================] - 74s 2s/step - loss: 0.6107 - acc: 0.6979 - val_loss: 0.5569 - val_acc: 0.6967\n",
            "Epoch 5/100\n",
            "32/32 [==============================] - 73s 2s/step - loss: 0.5633 - acc: 0.7229 - val_loss: 0.5602 - val_acc: 0.7233\n",
            "Epoch 6/100\n",
            "32/32 [==============================] - 91s 3s/step - loss: 0.5312 - acc: 0.7492 - val_loss: 0.5540 - val_acc: 0.7200\n",
            "Epoch 7/100\n",
            "32/32 [==============================] - 73s 2s/step - loss: 0.4842 - acc: 0.7895 - val_loss: 0.5520 - val_acc: 0.7350\n",
            "Epoch 8/100\n",
            "32/32 [==============================] - 73s 2s/step - loss: 0.4930 - acc: 0.7651 - val_loss: 0.5657 - val_acc: 0.7250\n",
            "Epoch 9/100\n",
            "32/32 [==============================] - 73s 2s/step - loss: 0.5223 - acc: 0.7501 - val_loss: 0.5319 - val_acc: 0.7450\n",
            "Epoch 10/100\n",
            "32/32 [==============================] - 72s 2s/step - loss: 0.4592 - acc: 0.7988 - val_loss: 0.5496 - val_acc: 0.7333\n",
            "Epoch 11/100\n",
            "32/32 [==============================] - 73s 2s/step - loss: 0.4660 - acc: 0.7743 - val_loss: 0.5530 - val_acc: 0.7450\n",
            "Epoch 12/100\n",
            "32/32 [==============================] - 73s 2s/step - loss: 0.4511 - acc: 0.7769 - val_loss: 0.6483 - val_acc: 0.7050\n",
            "Epoch 13/100\n",
            "32/32 [==============================] - 73s 2s/step - loss: 0.4620 - acc: 0.7858 - val_loss: 0.5424 - val_acc: 0.7650\n",
            "Epoch 14/100\n",
            "32/32 [==============================] - 73s 2s/step - loss: 0.4220 - acc: 0.8030 - val_loss: 0.5316 - val_acc: 0.7583\n",
            "Epoch 15/100\n",
            "32/32 [==============================] - 76s 2s/step - loss: 0.4039 - acc: 0.8128 - val_loss: 0.5298 - val_acc: 0.7583\n",
            "Epoch 16/100\n",
            "32/32 [==============================] - 74s 2s/step - loss: 0.3717 - acc: 0.8278 - val_loss: 0.5403 - val_acc: 0.7550\n",
            "Epoch 17/100\n",
            "32/32 [==============================] - 75s 2s/step - loss: 0.3917 - acc: 0.8197 - val_loss: 0.5316 - val_acc: 0.7600\n",
            "Epoch 18/100\n",
            "32/32 [==============================] - 91s 3s/step - loss: 0.3599 - acc: 0.8398 - val_loss: 0.5384 - val_acc: 0.7650\n",
            "Epoch 19/100\n",
            "32/32 [==============================] - 75s 2s/step - loss: 0.3860 - acc: 0.8229 - val_loss: 0.5539 - val_acc: 0.7417\n",
            "Epoch 20/100\n",
            "32/32 [==============================] - 76s 2s/step - loss: 0.3556 - acc: 0.8427 - val_loss: 0.5276 - val_acc: 0.7683\n",
            "Epoch 21/100\n",
            "32/32 [==============================] - 76s 2s/step - loss: 0.3555 - acc: 0.8406 - val_loss: 0.5517 - val_acc: 0.7550\n",
            "Epoch 22/100\n",
            "32/32 [==============================] - 76s 2s/step - loss: 0.3890 - acc: 0.8182 - val_loss: 0.5575 - val_acc: 0.7533\n",
            "Epoch 23/100\n",
            "32/32 [==============================] - 77s 2s/step - loss: 0.3691 - acc: 0.8236 - val_loss: 0.5423 - val_acc: 0.7417\n",
            "Epoch 24/100\n",
            "32/32 [==============================] - 75s 2s/step - loss: 0.3628 - acc: 0.8403 - val_loss: 0.5504 - val_acc: 0.7600\n",
            "Epoch 25/100\n",
            "32/32 [==============================] - 74s 2s/step - loss: 0.3445 - acc: 0.8335 - val_loss: 0.5636 - val_acc: 0.7633\n",
            "Epoch 26/100\n",
            "32/32 [==============================] - 75s 2s/step - loss: 0.3328 - acc: 0.8349 - val_loss: 0.5561 - val_acc: 0.7633\n",
            "Epoch 27/100\n",
            "32/32 [==============================] - 76s 2s/step - loss: 0.3020 - acc: 0.8670 - val_loss: 0.5331 - val_acc: 0.7700\n",
            "Epoch 28/100\n",
            "32/32 [==============================] - 72s 2s/step - loss: 0.3665 - acc: 0.8408 - val_loss: 0.5518 - val_acc: 0.7633\n",
            "Epoch 29/100\n",
            "32/32 [==============================] - 72s 2s/step - loss: 0.3168 - acc: 0.8630 - val_loss: 0.5401 - val_acc: 0.7700\n",
            "Epoch 30/100\n",
            "32/32 [==============================] - 74s 2s/step - loss: 0.2938 - acc: 0.8752 - val_loss: 0.5499 - val_acc: 0.7733\n",
            "Epoch 31/100\n",
            "32/32 [==============================] - 75s 2s/step - loss: 0.2746 - acc: 0.8841 - val_loss: 0.5583 - val_acc: 0.7683\n",
            "Epoch 32/100\n",
            "32/32 [==============================] - 74s 2s/step - loss: 0.3015 - acc: 0.8581 - val_loss: 0.5413 - val_acc: 0.7833\n",
            "Epoch 33/100\n",
            "32/32 [==============================] - 75s 2s/step - loss: 0.2968 - acc: 0.8656 - val_loss: 0.5508 - val_acc: 0.7817\n",
            "Epoch 34/100\n",
            "32/32 [==============================] - 92s 3s/step - loss: 0.3007 - acc: 0.8673 - val_loss: 0.5420 - val_acc: 0.7717\n"
          ],
          "name": "stdout"
        }
      ]
    },
    {
      "cell_type": "code",
      "metadata": {
        "id": "bhNqyabZdN76"
      },
      "source": [
        "keras_model_path = '/content/grive/My Drive/Metis/Deep-Learning/deep-learning-project/june10_6pm_augmentANDtransfer_mobile_adam_1'"
      ],
      "execution_count": 44,
      "outputs": []
    },
    {
      "cell_type": "code",
      "metadata": {
        "colab": {
          "base_uri": "https://localhost:8080/"
        },
        "id": "eWNYqfv8aXCr",
        "outputId": "4be2c662-b171-4fc3-d960-bea120b063af"
      },
      "source": [
        "from keras.models import load_model\n",
        "model2.save('/content/grive/My Drive/Metis/Deep-Learning/deep-learning-project/june10_6pm_augmentANDtransfer_mobile_adam_1')"
      ],
      "execution_count": 46,
      "outputs": [
        {
          "output_type": "stream",
          "text": [
            "INFO:tensorflow:Assets written to: /content/grive/My Drive/Metis/Deep-Learning/deep-learning-project/june10_6pm_augmentANDtransfer_mobile_adam_1/assets\n"
          ],
          "name": "stdout"
        }
      ]
    },
    {
      "cell_type": "code",
      "metadata": {
        "id": "tvIZUn9VcdbU"
      },
      "source": [
        "restored_keras_model = load_model(keras_model_path)"
      ],
      "execution_count": 48,
      "outputs": []
    },
    {
      "cell_type": "code",
      "metadata": {
        "colab": {
          "base_uri": "https://localhost:8080/"
        },
        "id": "e2yF0tkCJQ9E",
        "outputId": "4211658e-eed8-4d75-e4cf-0abc84518fb7"
      },
      "source": [
        "# Evaluate the model on the test data using `evaluate`\n",
        "print(\"Evaluate on test data\")\n",
        "results = restored_keras_model.evaluate(test_generator, batch_size=128)\n",
        "print(\"test loss, test acc:\", results)\n"
      ],
      "execution_count": 51,
      "outputs": [
        {
          "output_type": "stream",
          "text": [
            "Evaluate on test data\n",
            "21/21 [==============================] - 197s 10s/step - loss: 0.5379 - acc: 0.7623\n",
            "test loss, test acc: [0.5379151701927185, 0.762269914150238]\n"
          ],
          "name": "stdout"
        }
      ]
    },
    {
      "cell_type": "code",
      "metadata": {
        "colab": {
          "base_uri": "https://localhost:8080/"
        },
        "id": "Q20Wci2fLWIv",
        "outputId": "c6360e5a-ff06-460c-d864-d05f6c59d7e6"
      },
      "source": [
        "small_test_generator = test_datagen.flow_from_directory(\n",
        "        small_test,\n",
        "        target_size=(224, 224),\n",
        "        batch_size=32,\n",
        "        class_mode='binary',\n",
        "        shuffle=False)"
      ],
      "execution_count": 64,
      "outputs": [
        {
          "output_type": "stream",
          "text": [
            "Found 6 images belonging to 2 classes.\n"
          ],
          "name": "stdout"
        }
      ]
    },
    {
      "cell_type": "code",
      "metadata": {
        "colab": {
          "base_uri": "https://localhost:8080/"
        },
        "id": "ER1pdjsmKP2N",
        "outputId": "2607f886-c5c1-4e00-da0c-3719b7a20ac1"
      },
      "source": [
        "# Generate predictions (probabilities -- the output of the last layer)\n",
        "# on new data using `predict`\n",
        "print(\"Generate predictions for 3 samples\")\n",
        "predictions = restored_keras_model.predict_classes(test_generator)\n",
        "print(\"predictions shape:\", predictions.shape)"
      ],
      "execution_count": 86,
      "outputs": [
        {
          "output_type": "stream",
          "text": [
            "Generate predictions for 3 samples\n"
          ],
          "name": "stdout"
        },
        {
          "output_type": "stream",
          "text": [
            "/usr/local/lib/python3.7/dist-packages/keras/engine/sequential.py:450: UserWarning: `model.predict_classes()` is deprecated and will be removed after 2021-01-01. Please use instead:* `np.argmax(model.predict(x), axis=-1)`,   if your model does multi-class classification   (e.g. if it uses a `softmax` last-layer activation).* `(model.predict(x) > 0.5).astype(\"int32\")`,   if your model does binary classification   (e.g. if it uses a `sigmoid` last-layer activation).\n",
            "  warnings.warn('`model.predict_classes()` is deprecated and '\n"
          ],
          "name": "stderr"
        },
        {
          "output_type": "stream",
          "text": [
            "predictions shape: (652, 1)\n"
          ],
          "name": "stdout"
        }
      ]
    },
    {
      "cell_type": "code",
      "metadata": {
        "id": "1578QxtXM6ED"
      },
      "source": [
        "# Identify incorrect predictions\n",
        "pred_clean = []\n",
        "for i in range(len(predictions)):\n",
        "  pred_clean.append(predictions[i][0])"
      ],
      "execution_count": 107,
      "outputs": []
    },
    {
      "cell_type": "code",
      "metadata": {
        "colab": {
          "base_uri": "https://localhost:8080/"
        },
        "id": "zWID9mBvNRu_",
        "outputId": "4fd2f07e-04bb-482e-d850-77d26d4d56f1"
      },
      "source": [
        "test_generator.class_indices"
      ],
      "execution_count": 71,
      "outputs": [
        {
          "output_type": "execute_result",
          "data": {
            "text/plain": [
              "{'happy': 0, 'sad': 1}"
            ]
          },
          "metadata": {
            "tags": []
          },
          "execution_count": 71
        }
      ]
    },
    {
      "cell_type": "code",
      "metadata": {
        "id": "gCLJNSJ4lcn5"
      },
      "source": [
        "preds = list(zip(test_generator.filenames,pred_clean,test_generator.labels))"
      ],
      "execution_count": 109,
      "outputs": []
    },
    {
      "cell_type": "code",
      "metadata": {
        "id": "tRrJVofCmSzE"
      },
      "source": [
        "import pandas as pd"
      ],
      "execution_count": 82,
      "outputs": []
    },
    {
      "cell_type": "code",
      "metadata": {
        "id": "_vR72C7umMgG"
      },
      "source": [
        "pred_df = pd.DataFrame(preds,columns=['image','prediction','actual'])"
      ],
      "execution_count": 110,
      "outputs": []
    },
    {
      "cell_type": "code",
      "metadata": {
        "id": "NQqgPNsMmUwO"
      },
      "source": [
        "mask = pred_df['prediction'] != pred_df['actual']"
      ],
      "execution_count": 122,
      "outputs": []
    },
    {
      "cell_type": "code",
      "metadata": {
        "id": "vgkseHq9o-ly"
      },
      "source": [
        "image_list = []\n",
        "for image in pred_df[mask]['image']:\n",
        "  image_list.append(image)"
      ],
      "execution_count": 128,
      "outputs": []
    },
    {
      "cell_type": "code",
      "metadata": {
        "id": "_Np9933Jqixz"
      },
      "source": [
        "happy = image_list[:60]\n",
        "sad = image_list[60:]"
      ],
      "execution_count": 140,
      "outputs": []
    },
    {
      "cell_type": "code",
      "metadata": {
        "id": "eEF9x8VFrj48"
      },
      "source": [
        "base_dir = '/content/grive/My Drive/Metis/Deep-Learning/deep-learning-project/photos/small'\n",
        "# Directories for our training, validation and test splits\n",
        "train_dir = os.path.join(base_dir, 'train')\n",
        "# os.mkdir(train_dir)\n",
        "validation_dir = os.path.join(base_dir, 'validation')\n",
        "# os.mkdir(validation_dir)\n",
        "test_dir = os.path.join(base_dir, 'test')\n",
        "# os.mkdir(test_dir)\n",
        "\n",
        "\n",
        "test_happy_wrong = os.path.join(test_dir, 'happy_as_sad')\n",
        "#os.mkdir(test_happy_wrong)\n",
        "\n",
        "test_sad_wrong = os.path.join(test_dir, 'sad_as_happy')\n",
        "#os.mkdir(test_sad_wrong)"
      ],
      "execution_count": 156,
      "outputs": []
    },
    {
      "cell_type": "code",
      "metadata": {
        "id": "y2CU3I-bqiW9"
      },
      "source": [
        "original_dataset_dir = '/content/grive/My Drive/Metis/Deep-Learning/deep-learning-project/photos/small/'\n",
        "test_happy = os.path.join(original_dataset_dir, 'test')\n",
        "test_sad = os.path.join(original_dataset_dir,'test')"
      ],
      "execution_count": 153,
      "outputs": []
    },
    {
      "cell_type": "code",
      "metadata": {
        "id": "gwCtNM9QtwHJ"
      },
      "source": [
        "for fname in happy:\n",
        "    src = os.path.join(test_happy, fname)\n",
        "    dst = os.path.join(test_happy_wrong, fname)\n",
        "    shutil.copyfile(src, dst)"
      ],
      "execution_count": 152,
      "outputs": []
    },
    {
      "cell_type": "code",
      "metadata": {
        "id": "9tf8kSK9reRk"
      },
      "source": [
        "for fname in sad:\n",
        "    src = os.path.join(test_sad, fname)\n",
        "    dst = os.path.join(test_sad_wrong, fname)\n",
        "    shutil.copyfile(src, dst)"
      ],
      "execution_count": 158,
      "outputs": []
    },
    {
      "cell_type": "code",
      "metadata": {
        "colab": {
          "base_uri": "https://localhost:8080/"
        },
        "id": "oN0XJEw_pHkU",
        "outputId": "c282fdb9-4daa-465f-de4f-8d1549962e65"
      },
      "source": [
        "pred_df['image']"
      ],
      "execution_count": 121,
      "outputs": [
        {
          "output_type": "execute_result",
          "data": {
            "text/plain": [
              "0.7622699386503068"
            ]
          },
          "metadata": {
            "tags": []
          },
          "execution_count": 121
        }
      ]
    }
  ]
}